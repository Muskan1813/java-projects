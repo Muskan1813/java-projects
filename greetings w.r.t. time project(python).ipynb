{
 "cells": [
  {
   "cell_type": "code",
   "execution_count": 1,
   "id": "90caa8f0",
   "metadata": {},
   "outputs": [
    {
     "name": "stdout",
     "output_type": "stream",
     "text": [
      "good morning\n"
     ]
    }
   ],
   "source": [
    "import time\n",
    "timestamp = time.strftime(\"%H:%M:%S\")\n",
    "hour = int(time.strftime(\"%H\"))\n",
    "minute =time.strftime(\"%M\")\n",
    "second = time.strftime(\"%S\")\n",
    "if 0<=hour<=12:\n",
    "    if hour == 12 :\n",
    "        if minute == 0 and second == 0:\n",
    "            print(\"good noon\")\n",
    "        else:\n",
    "            print(\"good afternoon\")\n",
    "    else:\n",
    "        print(\"good morning\")\n",
    "elif 12<hour<=17:\n",
    "    if hour ==17:\n",
    "        if minute == 0 and second == 0 :\n",
    "            print(\"good afternoon\")\n",
    "        else:\n",
    "            print(\"good evening\")\n",
    "    else:\n",
    "        print(\"good afternoon\")\n",
    "elif 17<hour<=20:\n",
    "    if hour == 20:\n",
    "        if minute == 0 and second == 0:\n",
    "            print(\"good evening\")\n",
    "        else:\n",
    "            print(\"good night\")\n",
    "    else:\n",
    "        print(\"good evening\")\n",
    "    \n",
    "elif 20 < hour<=24:\n",
    "    print(\"good night\")\n",
    "else:\n",
    "    (\"error\")"
   ]
  },
  {
   "cell_type": "code",
   "execution_count": null,
   "id": "0efa0169",
   "metadata": {},
   "outputs": [],
   "source": []
  }
 ],
 "metadata": {
  "kernelspec": {
   "display_name": "Python 3 (ipykernel)",
   "language": "python",
   "name": "python3"
  },
  "language_info": {
   "codemirror_mode": {
    "name": "ipython",
    "version": 3
   },
   "file_extension": ".py",
   "mimetype": "text/x-python",
   "name": "python",
   "nbconvert_exporter": "python",
   "pygments_lexer": "ipython3",
   "version": "3.11.4"
  }
 },
 "nbformat": 4,
 "nbformat_minor": 5
}
